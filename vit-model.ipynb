{
 "cells": [
  {
   "cell_type": "markdown",
   "metadata": {},
   "source": [
    "**Necessary Imports**"
   ]
  },
  {
   "cell_type": "code",
   "execution_count": null,
   "metadata": {
    "vscode": {
     "languageId": "plaintext"
    }
   },
   "outputs": [],
   "source": [
    "\n",
    "import torchvision\n",
    "from torchvision.transforms import ToTensor\n",
    "\n",
    "train_ds = torchvision.datasets.ImageFolder('/content/train/', transform=ToTensor())\n",
    "valid_ds = torchvision.datasets.ImageFolder('/content/valid/', transform=ToTensor())\n",
    "test_ds = torchvision.datasets.ImageFolder('/content/test/', transform=ToTensor())"
   ]
  },
  {
   "cell_type": "markdown",
   "metadata": {},
   "source": [
    "**Define the Model**\n",
    "\n",
    "- The model itself uses a linear layer on top of a pre-trained ViTModel. We place a linear layer on top of the last hidden state of the [CLS] token, which serves as a good representation of an entire image. We also add dropout for regularization.\n",
    "\n",
    "Note: The Vision Transformer pretrained model can be used as a regular PyTorch layer."
   ]
  },
  {
   "cell_type": "code",
   "execution_count": null,
   "metadata": {
    "vscode": {
     "languageId": "plaintext"
    }
   },
   "outputs": [],
   "source": [
    "from transformers import ViTModel\n",
    "from transformers.modeling_outputs import SequenceClassifierOutput\n",
    "import torch.nn as nn\n",
    "import torch.nn.functional as F\n",
    "\n",
    "class ViTForImageClassification(nn.Module):\n",
    "    def __init__(self, num_labels=3):\n",
    "        super(ViTForImageClassification, self).__init__()\n",
    "        self.vit = ViTModel.from_pretrained('google/vit-base-patch16-224-in21k')\n",
    "        self.dropout = nn.Dropout(0.1)\n",
    "        self.classifier = nn.Linear(self.vit.config.hidden_size, num_labels)\n",
    "        self.num_labels = num_labels\n",
    "\n",
    "    def forward(self, pixel_values, labels):\n",
    "        outputs = self.vit(pixel_values=pixel_values)\n",
    "        output = self.dropout(outputs.last_hidden_state[:,0])\n",
    "        logits = self.classifier(output)\n",
    "\n",
    "        loss = None\n",
    "        if labels is not None:\n",
    "          loss_fct = nn.CrossEntropyLoss()\n",
    "          loss = loss_fct(logits.view(-1, self.num_labels), labels.view(-1))\n",
    "        if loss is not None:\n",
    "          return logits, loss.item()\n",
    "        else:\n",
    "          return logits, None"
   ]
  },
  {
   "cell_type": "markdown",
   "metadata": {},
   "source": [
    "**Define the Model Parameters** \n",
    "- To train this model, we will train in 3 epochs, with a batch size of 10 and a learning rate of 2e-5:"
   ]
  },
  {
   "cell_type": "code",
   "execution_count": null,
   "metadata": {
    "vscode": {
     "languageId": "plaintext"
    }
   },
   "outputs": [],
   "source": [
    "EPOCHS = 3\n",
    "BATCH_SIZE = 10\n",
    "LEARNING_RATE = 2e-5\n"
   ]
  },
  {
   "cell_type": "markdown",
   "metadata": {},
   "source": [
    "**We will use the pretrained Vision Transformer feature extractor, an Adam Optimizer, and a Cross Entropy Loss function.**"
   ]
  },
  {
   "cell_type": "code",
   "execution_count": null,
   "metadata": {
    "vscode": {
     "languageId": "plaintext"
    }
   },
   "outputs": [],
   "source": [
    "\n",
    "from transformers import ViTFeatureExtractor\n",
    "import torch.nn as nn\n",
    "import torch\n",
    "# Define Model\n",
    "model = ViTForImageClassification(len(train_ds.classes))    \n",
    "# Feature Extractor\n",
    "feature_extractor = ViTFeatureExtractor.from_pretrained('google/vit-base-patch16-224-in21k')\n",
    "# Adam Optimizer\n",
    "optimizer = torch.optim.Adam(model.parameters(), lr=LEARNING_RATE)\n",
    "# Cross Entropy Loss\n",
    "loss_func = nn.CrossEntropyLoss()\n",
    "# Use GPU if available  \n",
    "device = torch.device('cuda' if torch.cuda.is_available() else 'cpu') \n",
    "if torch.cuda.is_available():\n",
    "    model.cuda() "
   ]
  },
  {
   "cell_type": "markdown",
   "metadata": {},
   "source": [
    "**Train the Model**"
   ]
  },
  {
   "cell_type": "code",
   "execution_count": null,
   "metadata": {
    "vscode": {
     "languageId": "plaintext"
    }
   },
   "outputs": [],
   "source": [
    "import torch.utils.data as data\n",
    "from torch.autograd import Variable\n",
    "import numpy as np\n",
    "\n",
    "print(\"Number of train samples: \", len(train_ds))\n",
    "print(\"Number of test samples: \", len(test_ds))\n",
    "print(\"Detected Classes are: \", train_ds.class_to_idx) \n",
    "\n",
    "train_loader = data.DataLoader(train_ds, batch_size=BATCH_SIZE, shuffle=True,  num_workers=4)\n",
    "test_loader  = data.DataLoader(test_ds, batch_size=BATCH_SIZE, shuffle=True, num_workers=4) \n",
    "\n",
    "# Train the model\n",
    "for epoch in range(EPOCHS):        \n",
    "  for step, (x, y) in enumerate(train_loader):\n",
    "    # Change input array into list with each batch being one element\n",
    "    x = np.split(np.squeeze(np.array(x)), BATCH_SIZE)\n",
    "    # Remove unecessary dimension\n",
    "    for index, array in enumerate(x):\n",
    "      x[index] = np.squeeze(array)\n",
    "    # Apply feature extractor, stack back into 1 tensor and then convert to tensor\n",
    "    x = torch.tensor(np.stack(feature_extractor(x)['pixel_values'], axis=0))\n",
    "    # Send to GPU if available\n",
    "    x, y  = x.to(device), y.to(device)\n",
    "    b_x = Variable(x)   # batch x (image)\n",
    "    b_y = Variable(y)   # batch y (target)\n",
    "    # Feed through model\n",
    "    output, loss = model(b_x, None)\n",
    "    # Calculate loss\n",
    "    if loss is None: \n",
    "      loss = loss_func(output, b_y)   \n",
    "      optimizer.zero_grad()           \n",
    "      loss.backward()                 \n",
    "      optimizer.step()\n",
    "\n",
    "    if step % 50 == 0:\n",
    "      # Get the next batch for testing purposes\n",
    "      test = next(iter(test_loader))\n",
    "      test_x = test[0]\n",
    "      # Reshape and get feature matrices as needed\n",
    "      test_x = np.split(np.squeeze(np.array(test_x)), BATCH_SIZE)\n",
    "      for index, array in enumerate(test_x):\n",
    "        test_x[index] = np.squeeze(array)\n",
    "      test_x = torch.tensor(np.stack(feature_extractor(test_x)['pixel_values'], axis=0))\n",
    "      # Send to appropirate computing device\n",
    "      test_x = test_x.to(device)\n",
    "      test_y = test[1].to(device)\n",
    "      # Get output (+ respective class) and compare to target\n",
    "      test_output, loss = model(test_x, test_y)\n",
    "      test_output = test_output.argmax(1)\n",
    "      # Calculate Accuracy\n",
    "      accuracy = (test_output == test_y).sum().item() / BATCH_SIZE\n",
    "      print('Epoch: ', epoch, '| train loss: %.4f' % loss, '| test accuracy: %.2f' % accuracy)"
   ]
  },
  {
   "cell_type": "markdown",
   "metadata": {},
   "source": [
    "**Evaluate on a Test Image**"
   ]
  },
  {
   "cell_type": "code",
   "execution_count": null,
   "metadata": {
    "vscode": {
     "languageId": "plaintext"
    }
   },
   "outputs": [],
   "source": [
    "\n",
    "import matplotlib.pyplot as plt\n",
    "import numpy as np\n",
    "\n",
    "EVAL_BATCH = 1\n",
    "eval_loader  = data.DataLoader(valid_ds, batch_size=EVAL_BATCH, shuffle=True, num_workers=4) \n",
    "# Disable grad\n",
    "with torch.no_grad():\n",
    "    \n",
    "  inputs, target = next(iter(eval_loader))\n",
    "  # Reshape and get feature matrices as needed\n",
    "  print(inputs.shape)\n",
    "  inputs = inputs[0].permute(1, 2, 0)\n",
    "  # Save original Input\n",
    "  originalInput = inputs\n",
    "  for index, array in enumerate(inputs):\n",
    "    inputs[index] = np.squeeze(array)\n",
    "  inputs = torch.tensor(np.stack(feature_extractor(inputs)['pixel_values'], axis=0))\n",
    "\n",
    "  # Send to appropriate computing device\n",
    "  inputs = inputs.to(device)\n",
    "  target = target.to(device)\n",
    " \n",
    "  # Generate prediction\n",
    "  prediction, loss = model(inputs, target)\n",
    "    \n",
    "  # Predicted class value using argmax\n",
    "  predicted_class = np.argmax(prediction.cpu())\n",
    "  value_predicted = list(valid_ds.class_to_idx.keys())[list(valid_ds.class_to_idx.values()).index(predicted_class)]\n",
    "  value_target = list(valid_ds.class_to_idx.keys())[list(valid_ds.class_to_idx.values()).index(target)]\n",
    "        \n",
    "  # Show result\n",
    "  plt.imshow(originalInput)\n",
    "  plt.xlim(224,0)\n",
    "  plt.ylim(224,0)\n",
    "  plt.title(f'Prediction: {value_predicted} - Actual target: {value_target}')\n",
    "  plt.show()"
   ]
  },
  {
   "cell_type": "markdown",
   "metadata": {},
   "source": [
    "**Save Model**"
   ]
  },
  {
   "cell_type": "code",
   "execution_count": null,
   "metadata": {
    "vscode": {
     "languageId": "plaintext"
    }
   },
   "outputs": [],
   "source": [
    "torch.save(model, '/content/model.pt')\n"
   ]
  },
  {
   "cell_type": "markdown",
   "metadata": {},
   "source": [
    "**Export Model**"
   ]
  },
  {
   "cell_type": "code",
   "execution_count": null,
   "metadata": {
    "vscode": {
     "languageId": "plaintext"
    }
   },
   "outputs": [],
   "source": [
    "\n",
    "from google.colab import drive\n",
    "drive.mount('/content/gdrive')\n",
    "\n",
    "%cp /content/model.pt /content/gdrive/My\\ Drive"
   ]
  },
  {
   "cell_type": "markdown",
   "metadata": {},
   "source": [
    "**Use Model**"
   ]
  },
  {
   "cell_type": "code",
   "execution_count": null,
   "metadata": {
    "vscode": {
     "languageId": "plaintext"
    }
   },
   "outputs": [],
   "source": [
    "\n",
    "MODEL_PATH = '/content/model.pt'\n",
    "model = torch.load(MODEL_PATH)\n",
    "model.eval()"
   ]
  }
 ],
 "metadata": {
  "language_info": {
   "name": "python"
  }
 },
 "nbformat": 4,
 "nbformat_minor": 2
}
